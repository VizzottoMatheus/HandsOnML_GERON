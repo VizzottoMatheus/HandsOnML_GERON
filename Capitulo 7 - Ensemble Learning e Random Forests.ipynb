{
 "cells": [
  {
   "cell_type": "code",
   "execution_count": 32,
   "id": "15c26a36-26f0-4a71-b716-516937ebb2bc",
   "metadata": {},
   "outputs": [],
   "source": [
    "from sklearn.ensemble import RandomForestClassifier\n",
    "from sklearn.ensemble import VotingClassifier\n",
    "from sklearn.linear_model import LogisticRegression\n",
    "from sklearn.svm import SVC\n",
    "\n",
    "from sklearn.datasets import make_moons\n",
    "from sklearn.model_selection import train_test_split\n",
    "from sklearn.metrics import accuracy_score\n",
    "\n",
    "from sklearn.ensemble import BaggingClassifier\n",
    "from sklearn.tree import DecisionTreeClassifier\n",
    "\n",
    "from sklearn.ensemble import AdaBoostClassifier\n",
    "from sklearn.tree import DecisionTreeRegressor\n",
    "from sklearn.ensemble import GradientBoostingRegressor\n",
    "\n",
    "import numpy as np\n",
    "from sklearn.metrics import mean_squared_error\n",
    "\n",
    "import xgboost"
   ]
  },
  {
   "cell_type": "code",
   "execution_count": 3,
   "id": "4173268f-4d96-4b1f-8f22-e4abc215ba6a",
   "metadata": {},
   "outputs": [],
   "source": [
    "X, y = make_moons(n_samples=100, noise=0.15)\n",
    "X_train, X_test, y_train, y_test = train_test_split(X, y, test_size = 0.2)"
   ]
  },
  {
   "cell_type": "code",
   "execution_count": 2,
   "id": "e0503d96-f7a1-45f4-a9a8-e8e7a9ab85cb",
   "metadata": {},
   "outputs": [],
   "source": [
    "# CLASSIFICADORES DE VOTAÇÃO\n",
    "\n",
    "log_clf = LogisticRegression()\n",
    "rnd_clf = RandomForestClassifier()\n",
    "svm_clf = SVC()\n",
    "\n",
    "voting_clf = VotingClassifier(\n",
    "            estimators=[('lr', log_clf), ('rf', rnd_clf), ('svc', svm_clf)],\n",
    "            voting='hard')\n",
    "voting_clf.fit(X_train, y_train)\n",
    "\n",
    "for clf in (log_clf, rnd_clf, svm_clf, voting_clf):\n",
    "    clf.fit(X_train, y_train)\n",
    "    y_pred = clf.predict(X_test)\n",
    "    print(clf.__class__.__name__, accuracy_score(y_test, y_pred))"
   ]
  },
  {
   "cell_type": "code",
   "execution_count": 24,
   "id": "f257de57-bc4d-47f7-b83c-f078784849b0",
   "metadata": {},
   "outputs": [],
   "source": [
    "# BAGGING E PASTING\n",
    "\n",
    "bag_clf = BaggingClassifier(\n",
    "            DecisionTreeClassifier(), n_estimators=500,\n",
    "            max_samples=50, bootstrap=True, n_jobs=-1) #n_jobs = -1: todas CPUs disponiveis \n",
    "bag_clf.fit(X_train, y_train)\n",
    "y_pred = bag_clf.predict(X_test)"
   ]
  },
  {
   "cell_type": "code",
   "execution_count": 25,
   "id": "248e5324-e1ed-4153-8ffd-3c6ae40ead56",
   "metadata": {},
   "outputs": [
    {
     "data": {
      "text/plain": [
       "0.925"
      ]
     },
     "execution_count": 25,
     "metadata": {},
     "output_type": "execute_result"
    }
   ],
   "source": [
    "# OUT-OF-BAG EVALUATION\n",
    "\n",
    "bag_clf = BaggingClassifier(\n",
    "        DecisionTreeClassifier(), n_estimators=500,\n",
    "        bootstrap=True, n_jobs=-1, oob_score=True)\n",
    "bag_clf.fit(X_train, y_train)\n",
    "bag_clf.oob_score_"
   ]
  },
  {
   "cell_type": "markdown",
   "id": "27c01e7e-c2fa-447c-b023-aee1644a6ddf",
   "metadata": {},
   "source": [
    "# RANDOM FOREST"
   ]
  },
  {
   "cell_type": "code",
   "execution_count": 26,
   "id": "0d9f6b6a-b056-4019-8b67-726f763185e3",
   "metadata": {},
   "outputs": [],
   "source": [
    "from sklearn.ensemble import RandomForestClassifier\n",
    "rnd_clf = RandomForestClassifier(n_estimators=500, max_leaf_nodes=16, n_jobs=-1)\n",
    "rnd_clf.fit(X_train, y_train)\n",
    "y_pred_rf = rnd_clf.predict(X_test)"
   ]
  },
  {
   "cell_type": "code",
   "execution_count": 29,
   "id": "2c37211d-283d-4efe-b9ef-48fad24164f6",
   "metadata": {},
   "outputs": [
    {
     "name": "stdout",
     "output_type": "stream",
     "text": [
      "sepal length (cm) 0.07882503067494859\n",
      "sepal width (cm) 0.021573175271866203\n",
      "petal length (cm) 0.46402009210202627\n",
      "petal width (cm) 0.43558170195115886\n"
     ]
    }
   ],
   "source": [
    "# RELEVÂNCIA DAS VARIÁVEIS\n",
    "\n",
    "from sklearn.datasets import load_iris\n",
    "iris = load_iris()\n",
    "rnd_clf = RandomForestClassifier(n_estimators=500, n_jobs=-1)\n",
    "rnd_clf.fit(iris[\"data\"], iris[\"target\"])\n",
    "for name, score in zip(iris[\"feature_names\"], rnd_clf.feature_importances_):\n",
    "    print(name, score)\n",
    "    \n",
    "# Random Forests são úteis para se entender quais variáveis de fato importam"
   ]
  },
  {
   "cell_type": "markdown",
   "id": "9e6dd212-861d-484e-b2bd-ed86ab49428c",
   "metadata": {},
   "source": [
    "# BOOSTING"
   ]
  },
  {
   "cell_type": "code",
   "execution_count": 32,
   "id": "2673fef1-e55a-4b78-a8fc-59d25ffae227",
   "metadata": {},
   "outputs": [
    {
     "data": {
      "text/plain": [
       "AdaBoostClassifier(base_estimator=DecisionTreeClassifier(max_depth=1),\n",
       "                   learning_rate=0.5, n_estimators=200)"
      ]
     },
     "execution_count": 32,
     "metadata": {},
     "output_type": "execute_result"
    }
   ],
   "source": [
    "#### AdaBoost (Adaptive Boosting) ####\n",
    "\n",
    "# Treina preditores sequencialmente, prestando mais antenção nas observações\n",
    "#que o predecessor ajustou mal\n",
    "\n",
    "ada_clf = AdaBoostClassifier(\n",
    "DecisionTreeClassifier(max_depth=1), n_estimators=200,\n",
    "algorithm=\"SAMME.R\", learning_rate=0.5)\n",
    "ada_clf.fit(X_train, y_train)"
   ]
  },
  {
   "cell_type": "code",
   "execution_count": 26,
   "id": "9567a33b-ac20-495a-9488-b41444c5e3da",
   "metadata": {},
   "outputs": [
    {
     "data": {
      "text/plain": [
       "GradientBoostingRegressor(learning_rate=1.0, max_depth=2, n_estimators=3)"
      ]
     },
     "execution_count": 26,
     "metadata": {},
     "output_type": "execute_result"
    }
   ],
   "source": [
    "#### GRADIENT BOOSTING ####\n",
    "\n",
    "# Tenta ajustar a nova variável preditora ao resíduo gerado pela anterior\n",
    "\n",
    "# Testando com Árvores de Decisão\n",
    "\n",
    "tree_reg1 = DecisionTreeRegressor(max_depth=2)\n",
    "tree_reg1.fit(X, y)\n",
    "\n",
    "y2 = y - tree_reg1.predict(X) # resíduo\n",
    "tree_reg2 = DecisionTreeRegressor(max_depth=2)\n",
    "tree_reg2.fit(X, y2)\n",
    "\n",
    "y3 = y2 - tree_reg2.predict(X) # resíduo\n",
    "tree_reg3 = DecisionTreeRegressor(max_depth=2)\n",
    "tree_reg3.fit(X, y3)\n",
    "\n",
    "# Fazer predições somando as de cada árvore\n",
    "media0 = X[:,0].mean()\n",
    "media1 = X[:,1].mean()\n",
    "X_new = [[X[0][0] + media0, X[0][1] + media1]]\n",
    "\n",
    "y_pred = sum(tree.predict(X_new) for tree in (tree_reg1, tree_reg2, tree_reg3))\n",
    "\n",
    "\n",
    "\n",
    "\n",
    "# USANDO SCIKIT-LEARN\n",
    "gbrt = GradientBoostingRegressor(max_depth=2, n_estimators=3, learning_rate=1.0)\n",
    "gbrt.fit(X, y)"
   ]
  },
  {
   "cell_type": "code",
   "execution_count": 28,
   "id": "38c20354-50f1-4300-b81d-093e67110460",
   "metadata": {},
   "outputs": [
    {
     "data": {
      "text/plain": [
       "GradientBoostingRegressor(max_depth=2, n_estimators=115)"
      ]
     },
     "execution_count": 28,
     "metadata": {},
     "output_type": "execute_result"
    }
   ],
   "source": [
    "# ENCONTRANDO NÚMERO ÓTIMO DE ÁRVORES\n",
    "\n",
    "X_train, X_val, y_train, y_val = train_test_split(X, y)\n",
    "gbrt = GradientBoostingRegressor(max_depth=2, n_estimators=120)\n",
    "gbrt.fit(X_train, y_train)\n",
    "errors = [mean_squared_error(y_val, y_pred)\n",
    "        for y_pred in gbrt.staged_predict(X_val)]\n",
    "bst_n_estimators = np.argmin(errors) + 1\n",
    "gbrt_best = GradientBoostingRegressor(max_depth=2,n_estimators=bst_n_estimators)\n",
    "gbrt_best.fit(X_train, y_train)"
   ]
  },
  {
   "cell_type": "code",
   "execution_count": 29,
   "id": "fafc8221-db54-4e84-a5f1-5447e7f32426",
   "metadata": {},
   "outputs": [],
   "source": [
    "# FAZENDO O MESMO SEM RODAR TODAS AS ÁRVORES E ESCOLHENDO, DEPOIS, A ÓTIMA\n",
    "\n",
    "gbrt = GradientBoostingRegressor(max_depth=2, warm_start=True)\n",
    "min_val_error = float(\"inf\")\n",
    "error_going_up = 0\n",
    "for n_estimators in range(1, 120):\n",
    "    gbrt.n_estimators = n_estimators\n",
    "    gbrt.fit(X_train, y_train)\n",
    "    y_pred = gbrt.predict(X_val)\n",
    "    val_error = mean_squared_error(y_val, y_pred)\n",
    "    if val_error < min_val_error:\n",
    "        min_val_error = val_error\n",
    "        error_going_up = 0\n",
    "    else:\n",
    "        error_going_up += 1\n",
    "        if error_going_up == 5:\n",
    "            break # early stopping"
   ]
  },
  {
   "cell_type": "code",
   "execution_count": 33,
   "id": "138ab49c-fff4-4839-b3ab-1b5212777654",
   "metadata": {},
   "outputs": [
    {
     "name": "stdout",
     "output_type": "stream",
     "text": [
      "[0]\tvalidation_0-rmse:0.38974\n",
      "[1]\tvalidation_0-rmse:0.32492\n",
      "[2]\tvalidation_0-rmse:0.29121\n",
      "[3]\tvalidation_0-rmse:0.27635\n",
      "[4]\tvalidation_0-rmse:0.27144\n",
      "[5]\tvalidation_0-rmse:0.26412\n",
      "[6]\tvalidation_0-rmse:0.26017\n",
      "[7]\tvalidation_0-rmse:0.25776\n",
      "[8]\tvalidation_0-rmse:0.25655\n",
      "[9]\tvalidation_0-rmse:0.25574\n",
      "[10]\tvalidation_0-rmse:0.25528\n",
      "[11]\tvalidation_0-rmse:0.25501\n",
      "[12]\tvalidation_0-rmse:0.25484\n",
      "[13]\tvalidation_0-rmse:0.25477\n",
      "[14]\tvalidation_0-rmse:0.25472\n",
      "[15]\tvalidation_0-rmse:0.25470\n",
      "[16]\tvalidation_0-rmse:0.25468\n",
      "[17]\tvalidation_0-rmse:0.25463\n",
      "[18]\tvalidation_0-rmse:0.25473\n",
      "[19]\tvalidation_0-rmse:0.25476\n"
     ]
    }
   ],
   "source": [
    "#### XGBOOST ####  ( EXTREME GRADIENT BOOSTING)\n",
    "\n",
    "xgb_reg = xgboost.XGBRegressor()\n",
    "xgb_reg.fit(X_train, y_train)\n",
    "y_pred = xgb_reg.predict(X_val)\n",
    "\n",
    "# EARLY STOPPING\n",
    "\n",
    "xgb_reg.fit(X_train, y_train,\n",
    "eval_set=[(X_val, y_val)], early_stopping_rounds=2)\n",
    "y_pred = xgb_reg.predict(X_val)"
   ]
  },
  {
   "cell_type": "code",
   "execution_count": null,
   "id": "1e085436-546e-4b74-a1ab-4acdb1447489",
   "metadata": {},
   "outputs": [],
   "source": []
  }
 ],
 "metadata": {
  "kernelspec": {
   "display_name": "Python 3",
   "language": "python",
   "name": "python3"
  },
  "language_info": {
   "codemirror_mode": {
    "name": "ipython",
    "version": 3
   },
   "file_extension": ".py",
   "mimetype": "text/x-python",
   "name": "python",
   "nbconvert_exporter": "python",
   "pygments_lexer": "ipython3",
   "version": "3.8.8"
  }
 },
 "nbformat": 4,
 "nbformat_minor": 5
}
